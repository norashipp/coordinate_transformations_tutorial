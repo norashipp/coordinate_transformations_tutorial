{
 "cells": [
  {
   "cell_type": "markdown",
   "id": "7ff38b64",
   "metadata": {},
   "source": [
    "# Gaia DR3 Hackaton @ MIT\n",
    "## Coordinate Transformations Tutorial\n"
   ]
  },
  {
   "cell_type": "markdown",
   "id": "8aadea1e",
   "metadata": {},
   "source": [
    "##### This is a quick tutorial to teach you how to use tools like astropy to transform between different astronomical coordinate systems! "
   ]
  },
  {
   "cell_type": "markdown",
   "id": "ac8b8221",
   "metadata": {},
   "source": [
    "### Astronomical Coordinate Systems\n",
    "\n",
    "In astronomy, we use different coordinate systems to represent the positions and velocities of stars and other astronomical objects on the sky. The images below show the sky as seen by Gaia in equatorial (left) and Galactic (right) coordinates."
   ]
  },
  {
   "cell_type": "code",
   "execution_count": 1,
   "id": "8ecaf18d",
   "metadata": {},
   "outputs": [
    {
     "data": {
      "text/html": [
       "<table><tr><td><img src='figures/milkyway_2020_4k_print.jpeg'></td><td><img src='figures/starmap_2020_4k_gal_print.jpeg'></td></tr></table>"
      ],
      "text/plain": [
       "<IPython.core.display.HTML object>"
      ]
     },
     "metadata": {},
     "output_type": "display_data"
    },
    {
     "name": "stdout",
     "output_type": "stream",
     "text": [
      "Credit: NASA https://svs.gsfc.nasa.gov/4851\n"
     ]
    }
   ],
   "source": [
    "from IPython.display import HTML, display\n",
    "display(HTML(\"<table><tr><td><img src='figures/milkyway_2020_4k_print.jpeg'></td><td><img src='figures/starmap_2020_4k_gal_print.jpeg'></td></tr></table>\"))\n",
    "print('Credit: NASA https://svs.gsfc.nasa.gov/4851')"
   ]
  },
  {
   "cell_type": "markdown",
   "id": "d3778090",
   "metadata": {},
   "source": [
    "<b>Equatorial coordinates:</b> The equatorial coordinate system is defind by how we view the sky from Earth. It is essentially an extension of the longitude and latitude system we use to measure positions on Earth. Each position on the sky is defined by a longitude (referred to as <b>right ascension</b> or RA or $\\alpha$) and a lattitude (<b>declination</b> or Dec or $\\delta$). For more details, see image below and check out <a href=\"https://skyandtelescope.org/astronomy-resources/right-ascension-declination-celestial-coordinates/\">this article.</a> Positions and velocities of stars are measured in equatorial coordinates and are generally reported in units of degrees, acrminutes, or arcseconds.\n",
    "\n",
    "<b>Galactic coordinates:</b> Galactic coordinates are defined so that the Galactic plane of the Milky Way lies along the equator. Each position in Galactic coordinates is defind by a longitude (<b>l</b>) and a latitude (<b>b</b>). As for the equatorial coordinate system, the origin of the Galactic coordinate system is our solar system.\n",
    "\n",
    "<b>Galactocentric cartesian coordinates:</b> Sometimes it is also useful to convert longitudes and latitudes to cartesian cordinates (i.e. $x, y, z$) with an origin at the center of the Milky Way. This can be especially helpful when working with simulations."
   ]
  },
  {
   "cell_type": "markdown",
   "id": "6ef15a48",
   "metadata": {},
   "source": [
    "<b><i>Note</i></b>: Sometimes RA is measured in hours, minutes, and seconds instead of degrees. To convert between these units, this is a handy website: http://www.astrouw.edu.pl/~jskowron/ra-dec/"
   ]
  },
  {
   "cell_type": "markdown",
   "id": "23fd601c",
   "metadata": {},
   "source": [
    "<div>\n",
    "<img src=\"figures/ra_dec.jpg\" width=\"400\"/>\n",
    "</div>\n",
    "Credit: Tom Ruen / CC BY-SA 3.0"
   ]
  },
  {
   "cell_type": "markdown",
   "id": "0d5c026b",
   "metadata": {},
   "source": [
    "### Velocities:\n",
    "\n",
    "In addition to positions, we can convert velocities between different astronomical coordinate systems. The three velocity components that we measure in equatorial coordinates are two proper motions (movement along the sky) and radial velocity (movement towards or away from us). (See image.)\n",
    "\n",
    "<b>Proper motion:</b> Proper motions are measured by comparing precise position measurements across time (e.g. small changes in RA and Dec). In equatorial coordinates, they are often referred to as pmra, pmdec or $\\mu_{\\rm \\alpha}$, $\\mu_{\\rm \\delta}$ and are generally measured in units of milliarcseconds per year, or $\\mathrm{mas}\\ \\mathrm{yr}^{-1}$. <i>Note: $\\mu_{\\rm \\alpha}$ values are weighted by $\\cos \\delta$ - this correction is already applied in the Gaia data.</i>\n",
    "\n",
    "<b>Radial velocity:</b> Radial velocities are measured from spetroscopy, by calculating the red or blueshift of a spectrum due to movement of the emitting object towards or away from us. Radial velocity is usually referred to as $v_{\\rm r}$ and is often measured in units of kilometers per second or $\\mathrm{km}\\ \\mathrm{s}^{-1}$.\n"
   ]
  },
  {
   "cell_type": "markdown",
   "id": "bc0f2b06",
   "metadata": {},
   "source": [
    "<div>\n",
    "<img src=\"figures/proper_motion.jpeg\" width=\"400\"/>\n",
    "</div>"
   ]
  },
  {
   "cell_type": "markdown",
   "id": "b181094e",
   "metadata": {},
   "source": [
    "## Transformations"
   ]
  },
  {
   "cell_type": "markdown",
   "id": "b5003627",
   "metadata": {},
   "source": [
    "The python package <a href=\"https://www.astropy.org/\">astropy</a> is a great tool for transforming between astronomical coordinate systems. Their documentation can be found <a href=\"https://docs.astropy.org/en/stable/coordinates/index.html\">here.</a>"
   ]
  },
  {
   "cell_type": "markdown",
   "id": "d03c4517",
   "metadata": {},
   "source": [
    "### Example 1: Defining a coordinate system"
   ]
  },
  {
   "cell_type": "code",
   "execution_count": 2,
   "id": "03416d2b",
   "metadata": {},
   "outputs": [],
   "source": [
    "# From https://docs.astropy.org/en/stable/coordinates/index.html\n",
    "\n",
    "from astropy import units as u\n",
    "from astropy.coordinates import SkyCoord\n",
    "\n",
    "c = SkyCoord(ra=10.625*u.degree, dec=41.2*u.degree, frame='icrs') # Use the ICRS frame when working in equatorial coordinates (Ra, Dec)\n",
    "\n",
    "# The initializer for SkyCoord is very flexible and supports inputs provided in a number of convenient formats. The following ways of initializing a coordinate are all equivalent to the above:\n",
    "c = SkyCoord(10.625, 41.2, frame='icrs', unit='deg')\n",
    "c = SkyCoord('00h42m30s', '+41d12m00s', frame='icrs')\n",
    "c = SkyCoord('00h42.5m', '+41d12m')\n",
    "c = SkyCoord('00 42 30 +41 12 00', unit=(u.hourangle, u.deg))\n",
    "c = SkyCoord('00:42.5 +41:12', unit=(u.hourangle, u.deg))"
   ]
  },
  {
   "cell_type": "code",
   "execution_count": 3,
   "id": "fec714df",
   "metadata": {},
   "outputs": [
    {
     "data": {
      "text/plain": [
       "<SkyCoord (ICRS): (ra, dec) in deg\n",
       "    (10.625, 41.2)>"
      ]
     },
     "execution_count": 3,
     "metadata": {},
     "output_type": "execute_result"
    }
   ],
   "source": [
    "c"
   ]
  },
  {
   "cell_type": "code",
   "execution_count": 4,
   "id": "b5a6d245",
   "metadata": {},
   "outputs": [
    {
     "name": "stdout",
     "output_type": "stream",
     "text": [
      "RA, Dec = 10.6 deg, 41.2 deg\n",
      "RA, Dec = 0.7 h, 2472.0 arcmin\n"
     ]
    }
   ],
   "source": [
    "# Print RA and Dec in different units\n",
    "print('RA, Dec = %.1f deg, %.1f deg' %(c.ra.deg, c.dec.deg))\n",
    "print('RA, Dec = %.1f h, %.1f arcmin' %(c.ra.hour, c.dec.arcminute))"
   ]
  },
  {
   "cell_type": "code",
   "execution_count": 5,
   "id": "4a0bbbc0",
   "metadata": {},
   "outputs": [],
   "source": [
    "# If known, you can also include a distance.\n",
    "c = SkyCoord(ra=10.625*u.degree, dec=41.2*u.degree, distance=100*u.kpc, frame='icrs')"
   ]
  },
  {
   "cell_type": "markdown",
   "id": "e0fda2ab",
   "metadata": {},
   "source": [
    "#### Problem 1: Adapt the code above to define a Galactic coordinate system, using frame='galactic.' And print out l and b."
   ]
  },
  {
   "cell_type": "code",
   "execution_count": null,
   "id": "10fa11bf",
   "metadata": {},
   "outputs": [],
   "source": [
    "c_gal = SkyCoord( # complete"
   ]
  },
  {
   "cell_type": "markdown",
   "id": "746dc6e9",
   "metadata": {},
   "source": [
    "### Example 2: Converting position coordinates"
   ]
  },
  {
   "cell_type": "code",
   "execution_count": 6,
   "id": "42889e8e",
   "metadata": {},
   "outputs": [
    {
     "data": {
      "text/plain": [
       "<SkyCoord (Galactic): (l, b) in deg\n",
       "    (121.12334339, -21.6403587)>"
      ]
     },
     "execution_count": 6,
     "metadata": {},
     "output_type": "execute_result"
    }
   ],
   "source": [
    "# Define ICRS frame\n",
    "c = SkyCoord(ra=10.625*u.degree, dec=41.2*u.degree, frame='icrs')\n",
    "\n",
    "# Convert to Galactic coordinates\n",
    "c_gal = c.galactic\n",
    "\n",
    "c_gal"
   ]
  },
  {
   "cell_type": "markdown",
   "id": "e606208a",
   "metadata": {},
   "source": [
    "#### Problem 2: Convert to another coordinate system of your choice. The built-in astropy coordinate frames can be found <a href=\"https://docs.astropy.org/en/stable/coordinates/index.html#built-in-frame-classes\">here.</a>\n",
    "\n",
    "<b>Note:</b> Some coordinate systems may require 3D positions. In that case, specify a distance in your ICRS coordinates."
   ]
  },
  {
   "cell_type": "code",
   "execution_count": null,
   "id": "e280fdf3",
   "metadata": {},
   "outputs": [],
   "source": [
    "c_new_frame = # complete"
   ]
  },
  {
   "cell_type": "markdown",
   "id": "37a50fc8",
   "metadata": {},
   "source": [
    "### Example 3: Galactocentric coordinates\n",
    "\n",
    "Defining a Galactocentric coordinate system requires specifying certiain parameters about the position and velocity of the sun relative to the Galactic center. You can read more about the coordinate system as implemented in astropy <a href=\"https://docs.astropy.org/en/stable/coordinates/galactocentric.html\">here.</a>"
   ]
  },
  {
   "cell_type": "code",
   "execution_count": 7,
   "id": "6f22a592",
   "metadata": {},
   "outputs": [
    {
     "data": {
      "text/plain": [
       "<Galactocentric Frame (galcen_coord=<ICRS Coordinate: (ra, dec) in deg\n",
       "    (266.4051, -28.936175)>, galcen_distance=8.122 kpc, galcen_v_sun=(12.9, 245.6, 7.78) km / s, z_sun=20.8 pc, roll=0.0 deg)>"
      ]
     },
     "execution_count": 7,
     "metadata": {},
     "output_type": "execute_result"
    }
   ],
   "source": [
    "# Print default Galactocentric coordinate paramters\n",
    "\n",
    "# galcen_coord: ra, dec of Galactic center in ICRS\n",
    "# galcen_distance: distance from the Sun to the Galactic center\n",
    "# galcen_v_sun: velocity of the Sun relative to the Galactic center\n",
    "# z_sun: distance of Sun out of the Galactic plane\n",
    "# roll: angle defining the orientation of the Galactic plane\n",
    "\n",
    "from astropy.coordinates import Galactocentric\n",
    "import astropy.coordinates as coord\n",
    "\n",
    "_ = coord.galactocentric_frame_defaults.set('v4.0') # Set default parameters to astropy v4.0 for consistency\n",
    "\n",
    "Galactocentric()"
   ]
  },
  {
   "cell_type": "markdown",
   "id": "2f6b162b",
   "metadata": {},
   "source": [
    "#### Problem 3: Define an ICRS coordinate system and convert to Galactocentric coordinates using the default astropy parameters."
   ]
  },
  {
   "cell_type": "code",
   "execution_count": null,
   "id": "b2d02de1",
   "metadata": {},
   "outputs": [],
   "source": [
    "c_icrs = SkyCoords( # complete\n",
    "c_galacto = # complete"
   ]
  },
  {
   "cell_type": "markdown",
   "id": "bd9d3c0d",
   "metadata": {},
   "source": [
    "### Example 4: Converting velocity coordinates"
   ]
  },
  {
   "cell_type": "code",
   "execution_count": 8,
   "id": "0273d7af",
   "metadata": {},
   "outputs": [
    {
     "data": {
      "text/plain": [
       "<SkyCoord (ICRS): (ra, dec) in deg\n",
       "    (1., 2.)\n",
       " (pm_ra_cosdec, pm_dec, radial_velocity) in (mas / yr, mas / yr, km / s)\n",
       "    (0.2, 0.1, 20.)>"
      ]
     },
     "execution_count": 8,
     "metadata": {},
     "output_type": "execute_result"
    }
   ],
   "source": [
    "# Include raidal velocity and proper motion\n",
    "c = SkyCoord(1*u.deg, 2*u.deg, radial_velocity=20*u.km/u.s, pm_ra_cosdec=.2*u.mas/u.yr, pm_dec=.1*u.mas/u.yr)\n",
    "\n",
    "c"
   ]
  },
  {
   "cell_type": "markdown",
   "id": "6bbf2d12",
   "metadata": {},
   "source": [
    "#### Problem 4: Convert your coordinate system including positions and velocities to Galactic and Galactocentric coordinates and print out the velocity coordinates."
   ]
  },
  {
   "cell_type": "code",
   "execution_count": null,
   "id": "ff6015ca",
   "metadata": {},
   "outputs": [],
   "source": [
    "c_gal = # complete\n",
    "c_galacto = # complete\n",
    "\n",
    "print('Galactic velocities = ' # complete\n",
    "print('Galactocentric velocities = ' # complete"
   ]
  },
  {
   "cell_type": "markdown",
   "id": "f5ef19fe",
   "metadata": {},
   "source": [
    "### Example 5: Correcting for solar reflex motion\n",
    "\n",
    "Velocities are measured relative to the Sun, which in turn is moving relatice to the Milky Way. To remove the motion of the sun from measured velocities, you can use the python package <a href=\"http://gala.adrian.pw/en/latest/index.html\">gala.</a> <b>Note:</b> Converting to the astropy Galactocentric frame already includes a correction for the solar reflex motion."
   ]
  },
  {
   "cell_type": "code",
   "execution_count": 9,
   "id": "8d8f8e67",
   "metadata": {},
   "outputs": [
    {
     "data": {
      "text/plain": [
       "(<SkyCoord (ICRS): (ra, dec, distance) in (deg, deg, kpc)\n",
       "     (1., 2., 10.)\n",
       "  (pm_ra_cosdec, pm_dec, radial_velocity) in (mas / yr, mas / yr, km / s)\n",
       "     (0.2, 0.1, 20.)>,\n",
       " <SkyCoord (ICRS): (ra, dec, distance) in (deg, deg, kpc)\n",
       "     (1., 2., 10.)\n",
       "  (pm_ra_cosdec, pm_dec, radial_velocity) in (mas / yr, mas / yr, km / s)\n",
       "     (-2.41611321, 3.82917525, 137.96178972)>)"
      ]
     },
     "execution_count": 9,
     "metadata": {},
     "output_type": "execute_result"
    }
   ],
   "source": [
    "from gala.coordinates import reflex_correct\n",
    "\n",
    "c = SkyCoord(1*u.deg, 2*u.deg, distance=10*u.kpc, radial_velocity=20*u.km/u.s, pm_ra_cosdec=.2*u.mas/u.yr, pm_dec=.1*u.mas/u.yr)\n",
    "\n",
    "c_corr = reflex_correct(c, galactocentric_frame=None) # Use galactocentric_frame=None for the defualt astropy frame. To define your own frame, see http://gala.adrian.pw/en/latest/coordinates/index.html\n",
    "\n",
    "c, c_corr"
   ]
  },
  {
   "cell_type": "markdown",
   "id": "3d0f5554",
   "metadata": {},
   "source": [
    "### Example 6: Transform proper motion errors\n",
    "\n",
    "Gaia also includes uncertainties on the measured proper motions, which can also be transformed between coordinate frames using gala."
   ]
  },
  {
   "cell_type": "code",
   "execution_count": 10,
   "id": "ca5a6d8c",
   "metadata": {},
   "outputs": [],
   "source": [
    "import gala.coordinates as gc\n",
    "import numpy as np\n",
    "\n",
    "c = SkyCoord(1*u.deg, 2*u.deg, distance=10*u.kpc, radial_velocity=20*u.km/u.s, pm_ra_cosdec=.2*u.mas/u.yr, pm_dec=.1*u.mas/u.yr)\n",
    "cov = np.array([[0.53510132, 0.16637034],\n",
    "                [0.16637034, 1.1235292 ]])\n",
    "\n",
    "pm_new = gc.transform_pm_cov(c, cov, coord.Galactic())"
   ]
  },
  {
   "cell_type": "markdown",
   "id": "33f134ce",
   "metadata": {},
   "source": [
    "#### Problem 6: Read through gala.coordinates documentation <a href=\"http://gala.adrian.pw/en/latest/coordinates/index.html\">here</a> and explore other coordinate transformation functions."
   ]
  },
  {
   "cell_type": "markdown",
   "id": "d13be5ab",
   "metadata": {},
   "source": [
    "### Bonus: Custom coordinate systems"
   ]
  },
  {
   "cell_type": "code",
   "execution_count": 2,
   "id": "ba587fda",
   "metadata": {},
   "outputs": [
    {
     "data": {
      "text/plain": [
       "array([[ 0.80632725,  0.14435328,  0.57358391],\n",
       "       [ 0.5652457 ,  0.09749209, -0.81914138],\n",
       "       [-0.17416564,  0.98471185, -0.00298454]])"
      ]
     },
     "execution_count": 2,
     "metadata": {},
     "output_type": "execute_result"
    }
   ],
   "source": [
    "import coord_utils\n",
    "\n",
    "# Choose two points that you want to lie along the equator\n",
    "ra1, dec1 = (10.0, -10.0)\n",
    "ra2, dec2 = (11.0, 80.0)\n",
    "\n",
    "# Intermediate step - define pole\n",
    "# pole = coord_utils.find_pole(ra1, dec1, ra2, dec2)\n",
    "\n",
    "# Calculate euler angles\n",
    "phi, theta, psi = coord_utils.euler_angles(ra1, dec1, ra2, dec2)\n",
    "\n",
    "# Calculate rotation matrix to define coordinate system\n",
    "R = coord_utils.create_matrix(phi, theta, psi)\n",
    "\n",
    "R"
   ]
  },
  {
   "cell_type": "markdown",
   "id": "e8ac7ac5",
   "metadata": {},
   "source": [
    "<b>Optional:</b> Follow instructions here to create custom astropy coordinate frame from rotation matrix R\n",
    "https://docs.astropy.org/en/stable/generated/examples/coordinates/plot_sgr-coordinate-frame.html"
   ]
  },
  {
   "cell_type": "markdown",
   "id": "32ef7c97",
   "metadata": {},
   "source": [
    "<b>Alternative:</b> Use functions defined in coord_utils.py to convert ra, dec, pmra, pmdec using rotation matrix directly.\n"
   ]
  },
  {
   "cell_type": "code",
   "execution_count": 4,
   "id": "e7c63c8e",
   "metadata": {},
   "outputs": [
    {
     "name": "stdout",
     "output_type": "stream",
     "text": [
      "[35.03094611] [-10.03010716]\n"
     ]
    }
   ],
   "source": [
    "from coord_utils import phi12_rotmat, pmphi12, pmphi12_reflex\n",
    "\n",
    "phi1, phi2 = phi12_rotmat(alpha=0., delta=0., R_phi12_radec=R)\n",
    "\n",
    "print(phi1, phi2)"
   ]
  },
  {
   "cell_type": "code",
   "execution_count": null,
   "id": "e920219d",
   "metadata": {},
   "outputs": [],
   "source": []
  }
 ],
 "metadata": {
  "kernelspec": {
   "display_name": "Python 3 (ipykernel)",
   "language": "python",
   "name": "python3"
  },
  "language_info": {
   "codemirror_mode": {
    "name": "ipython",
    "version": 3
   },
   "file_extension": ".py",
   "mimetype": "text/x-python",
   "name": "python",
   "nbconvert_exporter": "python",
   "pygments_lexer": "ipython3",
   "version": "3.10.0"
  }
 },
 "nbformat": 4,
 "nbformat_minor": 5
}
